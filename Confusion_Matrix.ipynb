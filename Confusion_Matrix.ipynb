{
 "cells": [
  {
   "cell_type": "code",
   "execution_count": 2,
   "id": "64d65fbe",
   "metadata": {},
   "outputs": [],
   "source": [
    "import numpy as np #we will use this to gnerate data\n",
    "actual =np.random.binomial(1,0.9,size=1000)\n",
    "predicted=np.random.binomial(1,0.9,size=1000)"
   ]
  },
  {
   "cell_type": "code",
   "execution_count": 3,
   "id": "c2115f4b",
   "metadata": {},
   "outputs": [
    {
     "name": "stdout",
     "output_type": "stream",
     "text": [
      "[[  8  96]\n",
      " [ 94 802]]\n"
     ]
    }
   ],
   "source": [
    "from sklearn import metrics #this will be used to make the confusion matrix\n",
    "\n",
    "confusion_matrix=metrics.confusion_matrix(actual,predicted)\n",
    "print(confusion_matrix)"
   ]
  },
  {
   "cell_type": "code",
   "execution_count": 4,
   "id": "3b22d0d9",
   "metadata": {},
   "outputs": [
    {
     "data": {
      "image/png": "[encoded data removed]",
      "text/plain": [
       "<Figure size 640x480 with 2 Axes>"
      ]
     },
     "metadata": {},
     "output_type": "display_data"
    }
   ],
   "source": [
    "#We need to convert this numeric table into something which is visually appealing that can be interpreted by us humans\n",
    "\n",
    "cm_display=metrics.ConfusionMatrixDisplay(confusion_matrix = confusion_matrix, display_labels=[0,1])\n",
    "\n",
    "import matplotlib.pyplot as plt\n",
    "cm_display.plot()\n",
    "plt.show()"
   ]
  },
  {
   "cell_type": "code",
   "execution_count": null,
   "id": "a0c52208",
   "metadata": {},
   "outputs": [],
   "source": [
    "#now using this confusion matrix we can now evaluate our classification model using different measures such as :\n",
    "#Accuracy\n",
    "#Precision\n",
    "#Senstivity(Recall)\n",
    "#Specificity\n",
    "#F-Score"
   ]
  },
  {
   "cell_type": "code",
   "execution_count": 5,
   "id": "de37a999",
   "metadata": {},
   "outputs": [
    {
     "name": "stdout",
     "output_type": "stream",
     "text": [
      "0.81\n"
     ]
    }
   ],
   "source": [
    "#Accuracy - is a measure of how often the model is correct\n",
    "#(True Positive + True Negative)/Total Predictions\n",
    "\n",
    "Accuracy=metrics.accuracy_score(actual,predicted)\n",
    "print(Accuracy)"
   ]
  },
  {
   "cell_type": "code",
   "execution_count": 6,
   "id": "4bb64bec",
   "metadata": {},
   "outputs": [
    {
     "name": "stdout",
     "output_type": "stream",
     "text": [
      "0.8930957683741648\n"
     ]
    }
   ],
   "source": [
    "#precision - of all the +ve's predicted how many predictions were true\n",
    "#(True_Positive)/(True_Positive + False_Positive)\n",
    "precision=metrics.precision_score(actual,predicted)\n",
    "print(precision)"
   ]
  },
  {
   "cell_type": "code",
   "execution_count": 7,
   "id": "c13fbcbb",
   "metadata": {},
   "outputs": [
    {
     "name": "stdout",
     "output_type": "stream",
     "text": [
      "0.8950892857142857\n"
     ]
    }
   ],
   "source": [
    "#Senstivity(Recall) - how good the model is at predicting positives\n",
    "\n",
    "sens=metrics.recall_score(actual,predicted)\n",
    "print(sens)"
   ]
  },
  {
   "cell_type": "code",
   "execution_count": 9,
   "id": "420bc47c",
   "metadata": {},
   "outputs": [
    {
     "name": "stdout",
     "output_type": "stream",
     "text": [
      "0.07692307692307693\n"
     ]
    }
   ],
   "source": [
    "#Specificity - How well the model calculates the negative results\n",
    "spec=metrics.recall_score(actual,predicted,pos_label=0)\n",
    "print(spec)"
   ]
  },
  {
   "cell_type": "code",
   "execution_count": 10,
   "id": "d5df6626",
   "metadata": {},
   "outputs": [
    {
     "name": "stdout",
     "output_type": "stream",
     "text": [
      "0.8940914158305463\n"
     ]
    }
   ],
   "source": [
    "#F-Score is the harmonic mean of sensitivity and precision \n",
    "#good for imbalanced datasets and it considers both false negative and false positive cases\n",
    "#2 * ((Precision * Sensitivity) / (Precision + Sensitivity)) = F_1Score\n",
    "\n",
    "f1score=metrics.f1_score(actual,predicted)\n",
    "print(f1score)"
   ]
  }
 ],
 "metadata": {
  "kernelspec": {
   "display_name": "Python 3",
   "language": "python",
   "name": "python3"
  },
  "language_info": {
   "codemirror_mode": {
    "name": "ipython",
    "version": 3
   },
   "file_extension": ".py",
   "mimetype": "text/x-python",
   "name": "python",
   "nbconvert_exporter": "python",
   "pygments_lexer": "ipython3",
   "version": "3.11.9"
  }
 },
 "nbformat": 4,
 "nbformat_minor": 5
}
