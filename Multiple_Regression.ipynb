{
 "cells": [
  {
   "cell_type": "markdown",
   "id": "6f30d3bb",
   "metadata": {},
   "source": [
    "It is like linear regression but we make use of multiple variables to predict a variable"
   ]
  },
  {
   "cell_type": "code",
   "execution_count": 4,
   "id": "bc069c7f",
   "metadata": {},
   "outputs": [
    {
     "name": "stdout",
     "output_type": "stream",
     "text": [
      "[107.2087328]\n"
     ]
    },
    {
     "name": "stderr",
     "output_type": "stream",
     "text": [
      "C:\\Users\\abhis\\AppData\\Local\\Packages\\PythonSoftwareFoundation.Python.3.11_qbz5n2kfra8p0\\LocalCache\\local-packages\\Python311\\site-packages\\sklearn\\utils\\validation.py:2749: UserWarning: X does not have valid feature names, but LinearRegression was fitted with feature names\n",
      "  warnings.warn(\n"
     ]
    }
   ],
   "source": [
    "import pandas \n",
    "from sklearn import linear_model\n",
    "\n",
    "df=pandas.read_csv(\"data.csv\")\n",
    "\n",
    "\n",
    "\n",
    "X=df[['Weight','Volume']]\n",
    "y=df['CO2']\n",
    "\n",
    "var_=linear_model.LinearRegression()  #this is a linear regression object\n",
    "var_.fit(X,y)\n",
    "\n",
    "prediciton=var_.predict([[2300,1300]])\n",
    "print(prediciton)"
   ]
  },
  {
   "cell_type": "code",
   "execution_count": 7,
   "id": "8fbc08f9",
   "metadata": {},
   "outputs": [
    {
     "name": "stdout",
     "output_type": "stream",
     "text": [
      "[0.00755095 0.00780526]\n"
     ]
    }
   ],
   "source": [
    "print(var_.coef_)"
   ]
  },
  {
   "cell_type": "code",
   "execution_count": 10,
   "id": "7677b20b",
   "metadata": {},
   "outputs": [
    {
     "name": "stdout",
     "output_type": "stream",
     "text": [
      "[114.75968007]\n"
     ]
    },
    {
     "name": "stderr",
     "output_type": "stream",
     "text": [
      "C:\\Users\\abhis\\AppData\\Local\\Packages\\PythonSoftwareFoundation.Python.3.11_qbz5n2kfra8p0\\LocalCache\\local-packages\\Python311\\site-packages\\sklearn\\utils\\validation.py:2749: UserWarning: X does not have valid feature names, but LinearRegression was fitted with feature names\n",
      "  warnings.warn(\n"
     ]
    }
   ],
   "source": [
    "g=var_.predict([[3300,1300]])\n",
    "print(g)"
   ]
  }
 ],
 "metadata": {
  "kernelspec": {
   "display_name": "Python 3",
   "language": "python",
   "name": "python3"
  },
  "language_info": {
   "codemirror_mode": {
    "name": "ipython",
    "version": 3
   },
   "file_extension": ".py",
   "mimetype": "text/x-python",
   "name": "python",
   "nbconvert_exporter": "python",
   "pygments_lexer": "ipython3",
   "version": "3.11.9"
  }
 },
 "nbformat": 4,
 "nbformat_minor": 5
}
