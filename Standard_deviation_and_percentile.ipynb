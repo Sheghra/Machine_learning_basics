{
 "cells": [
  {
   "cell_type": "code",
   "execution_count": null,
   "id": "5e599e8e",
   "metadata": {},
   "outputs": [
    {
     "name": "stdout",
     "output_type": "stream",
     "text": [
      "5.0\n",
      "2.58\n"
     ]
    }
   ],
   "source": [
    "import numpy as np\n",
    "\n",
    "a=[1,2,3,4,5,6,7,8,9]\n",
    "print(np.mean(a))\n",
    "print(f\"{np.std(a):.2f}\")"
   ]
  },
  {
   "cell_type": "code",
   "execution_count": null,
   "id": "258263b0",
   "metadata": {},
   "outputs": [
    {
     "name": "stdout",
     "output_type": "stream",
     "text": [
      "5.0\n",
      "6.666666666666667\n",
      "2.581988897471611\n",
      "6.666666666666666\n",
      "2.581988897471611\n"
     ]
    }
   ],
   "source": [
    "b=[1,2,3,4,5,6,7,8,9]\n",
    "import math\n",
    "print(np.mean(b))\n",
    "print(np.var(b))  #np.var() will find the variance of the dataset\n",
    "print(np.std(b))  \n",
    "#we know (standard deviation * standard deviaton) == variance\n",
    "print(np.std(b)*np.std(b))\n",
    "print(math.sqrt(np.var(b))) #this is the square root of variance which is equal to the standard deviation"
   ]
  },
  {
   "cell_type": "code",
   "execution_count": 13,
   "id": "3312b10e",
   "metadata": {},
   "outputs": [
    {
     "name": "stdout",
     "output_type": "stream",
     "text": [
      "50.0\n"
     ]
    }
   ],
   "source": [
    "ages = [5,31,43,48,50,41,7,11,15,39,80,82,32,2,8,6,25,36,27,61,31]\n",
    "print(np.percentile(ages,85))"
   ]
  }
 ],
 "metadata": {
  "kernelspec": {
   "display_name": "Python 3",
   "language": "python",
   "name": "python3"
  },
  "language_info": {
   "codemirror_mode": {
    "name": "ipython",
    "version": 3
   },
   "file_extension": ".py",
   "mimetype": "text/x-python",
   "name": "python",
   "nbconvert_exporter": "python",
   "pygments_lexer": "ipython3",
   "version": "3.11.9"
  }
 },
 "nbformat": 4,
 "nbformat_minor": 5
}
