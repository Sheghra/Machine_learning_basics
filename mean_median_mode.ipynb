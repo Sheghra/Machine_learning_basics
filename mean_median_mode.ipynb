{
 "cells": [
  {
   "cell_type": "code",
   "execution_count": 5,
   "id": "2c60853e",
   "metadata": {},
   "outputs": [
    {
     "name": "stdout",
     "output_type": "stream",
     "text": [
      "88.0\n"
     ]
    }
   ],
   "source": [
    "#can use the numpy modules mean() to find the mean or average value of a bunch of numbers\n",
    "import numpy as np\n",
    "a=[99,86,87,88,86,103,87,94,78,77,85,86]\n",
    "print(np.mean(a))\n"
   ]
  },
  {
   "cell_type": "code",
   "execution_count": 8,
   "id": "50495e85",
   "metadata": {},
   "outputs": [
    {
     "name": "stdout",
     "output_type": "stream",
     "text": [
      "86.5\n",
      "ModeResult(mode=86, count=3)\n"
     ]
    }
   ],
   "source": [
    "#ude the median() of the numpy module to find the middle element\n",
    "import scipy as sc\n",
    "print(np.median(a))\n",
    "print(sc.stats.mode(a))"
   ]
  }
 ],
 "metadata": {
  "kernelspec": {
   "display_name": "Python 3",
   "language": "python",
   "name": "python3"
  },
  "language_info": {
   "codemirror_mode": {
    "name": "ipython",
    "version": 3
   },
   "file_extension": ".py",
   "mimetype": "text/x-python",
   "name": "python",
   "nbconvert_exporter": "python",
   "pygments_lexer": "ipython3",
   "version": "3.11.9"
  }
 },
 "nbformat": 4,
 "nbformat_minor": 5
}
